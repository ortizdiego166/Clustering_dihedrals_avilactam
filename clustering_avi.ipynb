{
 "cells": [
  {
   "cell_type": "code",
   "execution_count": null,
   "metadata": {
    "collapsed": false
   },
   "outputs": [],
   "source": [
    "import numpy as np\n",
    "import mdtraj as md\n",
    "from msmbuilder.featurizer import DihedralFeaturizer\n",
    "from msmbuilder.cluster import MiniBatchKMedoids\n",
    "t = md.load(\"trajectory.dcd\",top=\"avi_neutral.pdb\")\n",
    "t2=t.remove_solvent(inplace=True)\n",
    "\n",
    "#calculation of the corresponding dihedral angles. Atomic numeration(n) correspond to the numeration n-1(python index) in avi_neutral.pdb\n",
    "\n",
    "yy=md.compute_dihedrals(traj=t2,indices=[(3923,3930,3931,3947),(3929,3930,3931,3947),(3930,3931,3932,3933)])\n",
    "\n",
    "#data transformation(from angular space to metric coordinate space).\n",
    "\n",
    "clusterizable_data=[]\n",
    "for m in yy:\n",
    "    a=[np.sin(m), np.cos(m)]\n",
    "    b=np.hstack(a)\n",
    "    clusterizable_data.append(b)\n",
    "#The data were saved like a numpy array, then its dimensions were expanded\n",
    "L=np.array(clusterizable_data)\n",
    "LL=[L]\n",
    "\n",
    "#run cluster analisys, with 12 clusters.The variable a3 is a list with cluster centroids.\n",
    "cluster2 = MiniBatchKMedoids(n_clusters=12,max_iter=3000,batch_size=400)\n",
    "cluster2.fit(LL)\n",
    "print(cluster2.labels_)\n",
    "\n",
    "a3=cluster2.cluster_centers_\n",
    "\n",
    "#Get centroid's frames. In this case, we get frames corresponding to cluster 12\n",
    "d=[]\n",
    "for x in range(12):\n",
    "    r=a3[x]\n",
    "    for y in range(5000):\n",
    "        if np.array_equal(L[y],r):\n",
    "             print(y)\n",
    "             d.append(y)\n",
    "\n"
   ]
  },
  {
   "cell_type": "code",
   "execution_count": null,
   "metadata": {
    "collapsed": true
   },
   "outputs": [],
   "source": []
  }
 ],
 "metadata": {
  "kernelspec": {
   "display_name": "Python 3",
   "language": "python",
   "name": "python3"
  },
  "language_info": {
   "codemirror_mode": {
    "name": "ipython",
    "version": 3
   },
   "file_extension": ".py",
   "mimetype": "text/x-python",
   "name": "python",
   "nbconvert_exporter": "python",
   "pygments_lexer": "ipython3",
   "version": "3.6.7"
  }
 },
 "nbformat": 4,
 "nbformat_minor": 2
}
